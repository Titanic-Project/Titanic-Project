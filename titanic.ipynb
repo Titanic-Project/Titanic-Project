{
 "cells": [
  {
   "cell_type": "code",
   "execution_count": 66,
   "metadata": {},
   "outputs": [],
   "source": [
    "import csv\n",
    "import numpy as np\n",
    "import pandas as pd\n",
    "import seaborn as sns\n",
    "import matplotlib.pyplot as plt\n",
    "\n",
    "from sklearn import tree\n",
    "from sklearn import preprocessing\n",
    "from sklearn.metrics import accuracy_score\n",
    "from sklearn.model_selection import train_test_split \n",
    "from sklearn.ensemble import RandomForestClassifier\n",
    "from sklearn.datasets import make_classification\n"
   ]
  },
  {
   "cell_type": "code",
   "execution_count": 67,
   "metadata": {},
   "outputs": [],
   "source": [
    "#Test ve Train Verisetini Tanımlama\n",
    "\n",
    "#Test verisetini pandas kütüphanesi ile tanımlıyoruz.\n",
    "train_dataset = pd.read_csv(r'C:\\Users\\pesen\\Desktop\\new\\train.csv') \n",
    "\n",
    "#Eğitim verisetini pandas kütüphanesi ile tanımlıyoruz.\n",
    "test_dataset = pd.read_csv(r'C:\\Users\\pesen\\Desktop\\new\\test.csv')"
   ]
  },
  {
   "cell_type": "code",
   "execution_count": 68,
   "metadata": {},
   "outputs": [
    {
     "name": "stdout",
     "output_type": "stream",
     "text": [
      "<class 'pandas.core.frame.DataFrame'>\n",
      "RangeIndex: 891 entries, 0 to 890\n",
      "Data columns (total 12 columns):\n",
      " #   Column       Non-Null Count  Dtype  \n",
      "---  ------       --------------  -----  \n",
      " 0   PassengerId  891 non-null    int64  \n",
      " 1   Survived     891 non-null    int64  \n",
      " 2   Pclass       891 non-null    int64  \n",
      " 3   Name         891 non-null    object \n",
      " 4   Sex          891 non-null    object \n",
      " 5   Age          714 non-null    float64\n",
      " 6   SibSp        891 non-null    int64  \n",
      " 7   Parch        891 non-null    int64  \n",
      " 8   Ticket       891 non-null    object \n",
      " 9   Fare         891 non-null    float64\n",
      " 10  Cabin        204 non-null    object \n",
      " 11  Embarked     889 non-null    object \n",
      "dtypes: float64(2), int64(5), object(5)\n",
      "memory usage: 83.7+ KB\n",
      "<class 'pandas.core.frame.DataFrame'>\n",
      "RangeIndex: 418 entries, 0 to 417\n",
      "Data columns (total 11 columns):\n",
      " #   Column       Non-Null Count  Dtype  \n",
      "---  ------       --------------  -----  \n",
      " 0   PassengerId  418 non-null    int64  \n",
      " 1   Pclass       418 non-null    int64  \n",
      " 2   Name         418 non-null    object \n",
      " 3   Sex          418 non-null    object \n",
      " 4   Age          332 non-null    float64\n",
      " 5   SibSp        418 non-null    int64  \n",
      " 6   Parch        418 non-null    int64  \n",
      " 7   Ticket       418 non-null    object \n",
      " 8   Fare         417 non-null    float64\n",
      " 9   Cabin        91 non-null     object \n",
      " 10  Embarked     418 non-null    object \n",
      "dtypes: float64(2), int64(4), object(5)\n",
      "memory usage: 36.0+ KB\n"
     ]
    },
    {
     "data": {
      "text/html": [
       "<div>\n",
       "<style scoped>\n",
       "    .dataframe tbody tr th:only-of-type {\n",
       "        vertical-align: middle;\n",
       "    }\n",
       "\n",
       "    .dataframe tbody tr th {\n",
       "        vertical-align: top;\n",
       "    }\n",
       "\n",
       "    .dataframe thead th {\n",
       "        text-align: right;\n",
       "    }\n",
       "</style>\n",
       "<table border=\"1\" class=\"dataframe\">\n",
       "  <thead>\n",
       "    <tr style=\"text-align: right;\">\n",
       "      <th></th>\n",
       "      <th>PassengerId</th>\n",
       "      <th>Survived</th>\n",
       "      <th>Pclass</th>\n",
       "      <th>Age</th>\n",
       "      <th>SibSp</th>\n",
       "      <th>Parch</th>\n",
       "      <th>Fare</th>\n",
       "    </tr>\n",
       "  </thead>\n",
       "  <tbody>\n",
       "    <tr>\n",
       "      <th>count</th>\n",
       "      <td>891.000000</td>\n",
       "      <td>891.000000</td>\n",
       "      <td>891.000000</td>\n",
       "      <td>714.000000</td>\n",
       "      <td>891.000000</td>\n",
       "      <td>891.000000</td>\n",
       "      <td>891.000000</td>\n",
       "    </tr>\n",
       "    <tr>\n",
       "      <th>mean</th>\n",
       "      <td>446.000000</td>\n",
       "      <td>0.383838</td>\n",
       "      <td>2.308642</td>\n",
       "      <td>29.699118</td>\n",
       "      <td>0.523008</td>\n",
       "      <td>0.381594</td>\n",
       "      <td>32.204208</td>\n",
       "    </tr>\n",
       "    <tr>\n",
       "      <th>std</th>\n",
       "      <td>257.353842</td>\n",
       "      <td>0.486592</td>\n",
       "      <td>0.836071</td>\n",
       "      <td>14.526497</td>\n",
       "      <td>1.102743</td>\n",
       "      <td>0.806057</td>\n",
       "      <td>49.693429</td>\n",
       "    </tr>\n",
       "    <tr>\n",
       "      <th>min</th>\n",
       "      <td>1.000000</td>\n",
       "      <td>0.000000</td>\n",
       "      <td>1.000000</td>\n",
       "      <td>0.420000</td>\n",
       "      <td>0.000000</td>\n",
       "      <td>0.000000</td>\n",
       "      <td>0.000000</td>\n",
       "    </tr>\n",
       "    <tr>\n",
       "      <th>25%</th>\n",
       "      <td>223.500000</td>\n",
       "      <td>0.000000</td>\n",
       "      <td>2.000000</td>\n",
       "      <td>20.125000</td>\n",
       "      <td>0.000000</td>\n",
       "      <td>0.000000</td>\n",
       "      <td>7.910400</td>\n",
       "    </tr>\n",
       "    <tr>\n",
       "      <th>50%</th>\n",
       "      <td>446.000000</td>\n",
       "      <td>0.000000</td>\n",
       "      <td>3.000000</td>\n",
       "      <td>28.000000</td>\n",
       "      <td>0.000000</td>\n",
       "      <td>0.000000</td>\n",
       "      <td>14.454200</td>\n",
       "    </tr>\n",
       "    <tr>\n",
       "      <th>75%</th>\n",
       "      <td>668.500000</td>\n",
       "      <td>1.000000</td>\n",
       "      <td>3.000000</td>\n",
       "      <td>38.000000</td>\n",
       "      <td>1.000000</td>\n",
       "      <td>0.000000</td>\n",
       "      <td>31.000000</td>\n",
       "    </tr>\n",
       "    <tr>\n",
       "      <th>max</th>\n",
       "      <td>891.000000</td>\n",
       "      <td>1.000000</td>\n",
       "      <td>3.000000</td>\n",
       "      <td>80.000000</td>\n",
       "      <td>8.000000</td>\n",
       "      <td>6.000000</td>\n",
       "      <td>512.329200</td>\n",
       "    </tr>\n",
       "  </tbody>\n",
       "</table>\n",
       "</div>"
      ],
      "text/plain": [
       "       PassengerId    Survived      Pclass         Age       SibSp  \\\n",
       "count   891.000000  891.000000  891.000000  714.000000  891.000000   \n",
       "mean    446.000000    0.383838    2.308642   29.699118    0.523008   \n",
       "std     257.353842    0.486592    0.836071   14.526497    1.102743   \n",
       "min       1.000000    0.000000    1.000000    0.420000    0.000000   \n",
       "25%     223.500000    0.000000    2.000000   20.125000    0.000000   \n",
       "50%     446.000000    0.000000    3.000000   28.000000    0.000000   \n",
       "75%     668.500000    1.000000    3.000000   38.000000    1.000000   \n",
       "max     891.000000    1.000000    3.000000   80.000000    8.000000   \n",
       "\n",
       "            Parch        Fare  \n",
       "count  891.000000  891.000000  \n",
       "mean     0.381594   32.204208  \n",
       "std      0.806057   49.693429  \n",
       "min      0.000000    0.000000  \n",
       "25%      0.000000    7.910400  \n",
       "50%      0.000000   14.454200  \n",
       "75%      0.000000   31.000000  \n",
       "max      6.000000  512.329200  "
      ]
     },
     "execution_count": 68,
     "metadata": {},
     "output_type": "execute_result"
    }
   ],
   "source": [
    "train_dataset.info()\n",
    "test_dataset.info()\n",
    "\n",
    "train_dataset.describe()"
   ]
  },
  {
   "cell_type": "code",
   "execution_count": 69,
   "metadata": {},
   "outputs": [
    {
     "name": "stdout",
     "output_type": "stream",
     "text": [
      "Index(['PassengerId', 'Survived', 'Pclass', 'Name', 'Sex', 'Age', 'SibSp',\n",
      "       'Parch', 'Ticket', 'Fare', 'Cabin', 'Embarked'],\n",
      "      dtype='object')\n",
      "Index(['PassengerId', 'Pclass', 'Name', 'Sex', 'Age', 'SibSp', 'Parch',\n",
      "       'Ticket', 'Fare', 'Cabin', 'Embarked'],\n",
      "      dtype='object')\n",
      "\n",
      "train dataset: (891, 12), test dataset (418, 11)\n"
     ]
    }
   ],
   "source": [
    "#Sütunları kontrol ediyoruz.\n",
    "\n",
    "print(train_dataset.columns )\n",
    "print(test_dataset.columns)\n",
    "\n",
    "#Sütun ve Satırları Train ve Test için yazdır\n",
    "print('\\ntrain dataset: %s, test dataset %s' %(str(train_dataset.shape), str(test_dataset.shape)) )"
   ]
  },
  {
   "cell_type": "code",
   "execution_count": 70,
   "metadata": {},
   "outputs": [
    {
     "name": "stdout",
     "output_type": "stream",
     "text": [
      "1309\n"
     ]
    }
   ],
   "source": [
    "#İki veri setindeki toplam yolcu sayısı\n",
    "print(train_dataset.shape[0] + test_dataset.shape[0])"
   ]
  },
  {
   "cell_type": "code",
   "execution_count": 71,
   "metadata": {},
   "outputs": [
    {
     "data": {
      "text/plain": [
       "0.3838383838383838"
      ]
     },
     "execution_count": 71,
     "metadata": {},
     "output_type": "execute_result"
    }
   ],
   "source": [
    "#Hayatta kalma oranı\n",
    "train_dataset['Survived'].mean()"
   ]
  },
  {
   "cell_type": "code",
   "execution_count": 72,
   "metadata": {},
   "outputs": [
    {
     "data": {
      "text/html": [
       "<div>\n",
       "<style scoped>\n",
       "    .dataframe tbody tr th:only-of-type {\n",
       "        vertical-align: middle;\n",
       "    }\n",
       "\n",
       "    .dataframe tbody tr th {\n",
       "        vertical-align: top;\n",
       "    }\n",
       "\n",
       "    .dataframe thead th {\n",
       "        text-align: right;\n",
       "    }\n",
       "</style>\n",
       "<table border=\"1\" class=\"dataframe\">\n",
       "  <thead>\n",
       "    <tr style=\"text-align: right;\">\n",
       "      <th></th>\n",
       "      <th>PassengerId</th>\n",
       "      <th>Survived</th>\n",
       "      <th>Pclass</th>\n",
       "      <th>Name</th>\n",
       "      <th>Sex</th>\n",
       "      <th>Age</th>\n",
       "      <th>SibSp</th>\n",
       "      <th>Parch</th>\n",
       "      <th>Ticket</th>\n",
       "      <th>Fare</th>\n",
       "      <th>Cabin</th>\n",
       "      <th>Embarked</th>\n",
       "    </tr>\n",
       "  </thead>\n",
       "  <tbody>\n",
       "    <tr>\n",
       "      <th>0</th>\n",
       "      <td>1</td>\n",
       "      <td>0</td>\n",
       "      <td>3</td>\n",
       "      <td>Braund, Mr. Owen Harris</td>\n",
       "      <td>male</td>\n",
       "      <td>22.0</td>\n",
       "      <td>1</td>\n",
       "      <td>0</td>\n",
       "      <td>A/5 21171</td>\n",
       "      <td>7.2500</td>\n",
       "      <td>NaN</td>\n",
       "      <td>S</td>\n",
       "    </tr>\n",
       "    <tr>\n",
       "      <th>1</th>\n",
       "      <td>2</td>\n",
       "      <td>1</td>\n",
       "      <td>1</td>\n",
       "      <td>Cumings, Mrs. John Bradley (Florence Briggs Th...</td>\n",
       "      <td>female</td>\n",
       "      <td>38.0</td>\n",
       "      <td>1</td>\n",
       "      <td>0</td>\n",
       "      <td>PC 17599</td>\n",
       "      <td>71.2833</td>\n",
       "      <td>C85</td>\n",
       "      <td>C</td>\n",
       "    </tr>\n",
       "    <tr>\n",
       "      <th>2</th>\n",
       "      <td>3</td>\n",
       "      <td>1</td>\n",
       "      <td>3</td>\n",
       "      <td>Heikkinen, Miss. Laina</td>\n",
       "      <td>female</td>\n",
       "      <td>26.0</td>\n",
       "      <td>0</td>\n",
       "      <td>0</td>\n",
       "      <td>STON/O2. 3101282</td>\n",
       "      <td>7.9250</td>\n",
       "      <td>NaN</td>\n",
       "      <td>S</td>\n",
       "    </tr>\n",
       "    <tr>\n",
       "      <th>3</th>\n",
       "      <td>4</td>\n",
       "      <td>1</td>\n",
       "      <td>1</td>\n",
       "      <td>Futrelle, Mrs. Jacques Heath (Lily May Peel)</td>\n",
       "      <td>female</td>\n",
       "      <td>35.0</td>\n",
       "      <td>1</td>\n",
       "      <td>0</td>\n",
       "      <td>113803</td>\n",
       "      <td>53.1000</td>\n",
       "      <td>C123</td>\n",
       "      <td>S</td>\n",
       "    </tr>\n",
       "    <tr>\n",
       "      <th>4</th>\n",
       "      <td>5</td>\n",
       "      <td>0</td>\n",
       "      <td>3</td>\n",
       "      <td>Allen, Mr. William Henry</td>\n",
       "      <td>male</td>\n",
       "      <td>35.0</td>\n",
       "      <td>0</td>\n",
       "      <td>0</td>\n",
       "      <td>373450</td>\n",
       "      <td>8.0500</td>\n",
       "      <td>NaN</td>\n",
       "      <td>S</td>\n",
       "    </tr>\n",
       "  </tbody>\n",
       "</table>\n",
       "</div>"
      ],
      "text/plain": [
       "   PassengerId  Survived  Pclass  \\\n",
       "0            1         0       3   \n",
       "1            2         1       1   \n",
       "2            3         1       3   \n",
       "3            4         1       1   \n",
       "4            5         0       3   \n",
       "\n",
       "                                                Name     Sex   Age  SibSp  \\\n",
       "0                            Braund, Mr. Owen Harris    male  22.0      1   \n",
       "1  Cumings, Mrs. John Bradley (Florence Briggs Th...  female  38.0      1   \n",
       "2                             Heikkinen, Miss. Laina  female  26.0      0   \n",
       "3       Futrelle, Mrs. Jacques Heath (Lily May Peel)  female  35.0      1   \n",
       "4                           Allen, Mr. William Henry    male  35.0      0   \n",
       "\n",
       "   Parch            Ticket     Fare Cabin Embarked  \n",
       "0      0         A/5 21171   7.2500   NaN        S  \n",
       "1      0          PC 17599  71.2833   C85        C  \n",
       "2      0  STON/O2. 3101282   7.9250   NaN        S  \n",
       "3      0            113803  53.1000  C123        S  \n",
       "4      0            373450   8.0500   NaN        S  "
      ]
     },
     "execution_count": 72,
     "metadata": {},
     "output_type": "execute_result"
    }
   ],
   "source": [
    "#Ilk 5 veriyi tablo şeklinde göster\n",
    "train_dataset.head()"
   ]
  },
  {
   "cell_type": "code",
   "execution_count": 73,
   "metadata": {},
   "outputs": [
    {
     "name": "stdout",
     "output_type": "stream",
     "text": [
      "Number of all passengers: 891\n",
      "Number of male passengers: 577\n",
      "Number of female passengers: 314\n",
      "Number of adult male passengers: 537\n",
      "Number of adult female passengers: 271\n",
      "Number of kid passengers: 83\n"
     ]
    }
   ],
   "source": [
    "male_passenger = train_dataset[train_dataset['Sex']== 'male']\n",
    "female_passenger = train_dataset[train_dataset['Sex']== 'female']\n",
    "\n",
    "#Kid passengers' dataframe. I accepted under of 16 years old as kid.\n",
    "kid_passenger = train_dataset[train_dataset['Age'] < 16]\n",
    "male_kid_passenger = kid_passenger[kid_passenger['Sex'] == 'male']\n",
    "female_kid_passenger = kid_passenger[kid_passenger['Sex'] == 'female']\n",
    "\n",
    "#Creating adult male and female dataframes by dropping kid passengers\n",
    "adult_male_passenger = male_passenger.drop(male_kid_passenger.index[:])\n",
    "adult_female_passenger = female_passenger.drop(female_kid_passenger.index[:])\n",
    "\n",
    "#Number of passengers according to sex and age\n",
    "print ('Number of all passengers:', len(train_dataset))\n",
    "print ('Number of male passengers:', len(male_passenger))\n",
    "print ('Number of female passengers:', len(female_passenger))\n",
    "print ('Number of adult male passengers:', len(adult_male_passenger))\n",
    "print ('Number of adult female passengers:', len(adult_female_passenger))\n",
    "print ('Number of kid passengers:', len(kid_passenger))"
   ]
  },
  {
   "cell_type": "code",
   "execution_count": 74,
   "metadata": {},
   "outputs": [
    {
     "data": {
      "image/png": "[encoded data removed]",
      "text/plain": [
       "<Figure size 432x288 with 1 Axes>"
      ]
     },
     "metadata": {},
     "output_type": "display_data"
    }
   ],
   "source": [
    "#Visualization of Sex\n",
    "\n",
    "#Visualization of percentages of passengers by sex on pie chart\n",
    "x = [len(male_passenger), len(female_passenger)]\n",
    "label = ['Male', 'Female']\n",
    "plt.pie(x, labels = label, autopct = '%1.01f%%')\n",
    "plt.title('Distribution of passengers by sex')\n",
    "plt.show()"
   ]
  },
  {
   "cell_type": "code",
   "execution_count": 75,
   "metadata": {},
   "outputs": [
    {
     "data": {
      "image/png": "[encoded data removed]",
      "text/plain": [
       "<Figure size 432x288 with 1 Axes>"
      ]
     },
     "metadata": {},
     "output_type": "display_data"
    },
    {
     "name": "stdout",
     "output_type": "stream",
     "text": [
      "Average age of adult male passengers: 33.17312348668281\n",
      "Average age of adult female passengers: 32.0\n",
      "Average age of kid passengers: 6.369518072289157\n"
     ]
    }
   ],
   "source": [
    "#Visualization of Age\n",
    "\n",
    "#We can also diversify age groups by defining a function:\n",
    "def age_distribution(x):\n",
    "    if x>=0 and x <16:\n",
    "        return 'Child'\n",
    "    elif x>=16 and x<=24:\n",
    "        return 'Young'\n",
    "    else:\n",
    "        return 'Adult'\n",
    "    \n",
    "train_dataset['Age'].apply(age_distribution).value_counts()\n",
    "\n",
    "#Visualization of percentages of passengers by age\n",
    "train_dataset['Age'].apply(age_distribution).value_counts().plot(kind='pie', autopct='%1.0f%%')\n",
    "plt.title('Distribution of passengers by age')\n",
    "plt.show()\n",
    "\n",
    "print ('Average age of adult male passengers:', adult_male_passenger['Age'].mean())\n",
    "print ('Average age of adult female passengers:', adult_female_passenger['Age'].mean())\n",
    "print ('Average age of kid passengers:', kid_passenger['Age'].mean())"
   ]
  },
  {
   "cell_type": "code",
   "execution_count": 76,
   "metadata": {},
   "outputs": [
    {
     "data": {
      "text/plain": [
       "3    491\n",
       "1    216\n",
       "2    184\n",
       "Name: Pclass, dtype: int64"
      ]
     },
     "execution_count": 76,
     "metadata": {},
     "output_type": "execute_result"
    }
   ],
   "source": [
    "#Pclass\n",
    "\n",
    "#Number of passengers according to class\n",
    "#Pclass: A proxy for socio-economic status 1st = Upper 2nd = Middle, 3rd = Lower)\n",
    "train_dataset['Pclass'].value_counts()\n",
    "\n"
   ]
  },
  {
   "cell_type": "code",
   "execution_count": 77,
   "metadata": {},
   "outputs": [
    {
     "data": {
      "image/png": "[encoded data removed]",
      "text/plain": [
       "<Figure size 432x288 with 1 Axes>"
      ]
     },
     "metadata": {
      "needs_background": "light"
     },
     "output_type": "display_data"
    }
   ],
   "source": [
    "#Embarked\n",
    "\n",
    "#Filling the two missing values in 'Embarked' with the most occurred value, which is \"S\"\n",
    "train_dataset['Embarked'] = train_dataset['Embarked'].fillna('S')\n",
    "#Visualization of number of passengers by embarking ports \n",
    "train_dataset['Embarked'].value_counts().plot(kind='bar')\n",
    "plt.title('Embarking ports')\n",
    "plt.ylabel('Frequency')\n",
    "plt.xlabel('S=Southampton, C=Cherbourg, Q=Queenstown')\n",
    "plt.show()"
   ]
  },
  {
   "cell_type": "code",
   "execution_count": 78,
   "metadata": {},
   "outputs": [
    {
     "data": {
      "image/png": "[encoded data removed]",
      "text/plain": [
       "<Figure size 432x288 with 1 Axes>"
      ]
     },
     "metadata": {
      "needs_background": "light"
     },
     "output_type": "display_data"
    }
   ],
   "source": [
    "#ANALYZING OF SURVIVINGS\n",
    "#Number of surviveds and not-surviveds\n",
    "train_dataset['Survived'].value_counts()\n",
    "train_dataset['Survived'].value_counts().plot(kind='bar', title='Surviving')\n",
    "plt.xlabel('0= Not-survived  1= Survived')\n",
    "plt.ylabel('Frequency')\n",
    "plt.show()"
   ]
  },
  {
   "cell_type": "code",
   "execution_count": 79,
   "metadata": {},
   "outputs": [
    {
     "data": {
      "image/png": "[encoded data removed]",
      "text/plain": [
       "<Figure size 432x288 with 1 Axes>"
      ]
     },
     "metadata": {
      "needs_background": "light"
     },
     "output_type": "display_data"
    },
    {
     "data": {
      "image/png": "[encoded data removed]",
      "text/plain": [
       "<Figure size 432x288 with 1 Axes>"
      ]
     },
     "metadata": {
      "needs_background": "light"
     },
     "output_type": "display_data"
    }
   ],
   "source": [
    "#Number of survivings by sex\n",
    "train_dataset.groupby('Sex')['Survived'].value_counts()\n",
    "\n",
    "#Visualization of survivings by sex\n",
    "train_dataset.groupby('Sex')['Survived'].value_counts().plot(kind='bar', stacked=True, colormap='winter')\n",
    "plt.show()\n",
    "\n",
    "#Better visualization of survivings by sex\n",
    "sex_survived = train_dataset.groupby(['Sex', 'Survived'])\n",
    "sex_survived.size().unstack().plot(kind='bar', stacked=True, colormap='winter')\n",
    "plt.ylabel('Frequency')\n",
    "plt.title('Survivings by sex')\n",
    "plt.show()"
   ]
  },
  {
   "cell_type": "code",
   "execution_count": 80,
   "metadata": {},
   "outputs": [
    {
     "data": {
      "text/plain": [
       "Pclass  Survived\n",
       "1       0            80\n",
       "        1           136\n",
       "2       0            97\n",
       "        1            87\n",
       "3       0           372\n",
       "        1           119\n",
       "dtype: int64"
      ]
     },
     "execution_count": 80,
     "metadata": {},
     "output_type": "execute_result"
    }
   ],
   "source": [
    "#Usage of size(),unstack() while examining survivings by passenger class\n",
    "class_survived = train_dataset.groupby(['Pclass', 'Survived'])\n",
    "#size() - to count number of rows in each grouping\n",
    "class_survived.size()"
   ]
  },
  {
   "cell_type": "code",
   "execution_count": 81,
   "metadata": {},
   "outputs": [
    {
     "data": {
      "text/html": [
       "<div>\n",
       "<style scoped>\n",
       "    .dataframe tbody tr th:only-of-type {\n",
       "        vertical-align: middle;\n",
       "    }\n",
       "\n",
       "    .dataframe tbody tr th {\n",
       "        vertical-align: top;\n",
       "    }\n",
       "\n",
       "    .dataframe thead th {\n",
       "        text-align: right;\n",
       "    }\n",
       "</style>\n",
       "<table border=\"1\" class=\"dataframe\">\n",
       "  <thead>\n",
       "    <tr style=\"text-align: right;\">\n",
       "      <th>Survived</th>\n",
       "      <th>0</th>\n",
       "      <th>1</th>\n",
       "    </tr>\n",
       "    <tr>\n",
       "      <th>Pclass</th>\n",
       "      <th></th>\n",
       "      <th></th>\n",
       "    </tr>\n",
       "  </thead>\n",
       "  <tbody>\n",
       "    <tr>\n",
       "      <th>1</th>\n",
       "      <td>80</td>\n",
       "      <td>136</td>\n",
       "    </tr>\n",
       "    <tr>\n",
       "      <th>2</th>\n",
       "      <td>97</td>\n",
       "      <td>87</td>\n",
       "    </tr>\n",
       "    <tr>\n",
       "      <th>3</th>\n",
       "      <td>372</td>\n",
       "      <td>119</td>\n",
       "    </tr>\n",
       "  </tbody>\n",
       "</table>\n",
       "</div>"
      ],
      "text/plain": [
       "Survived    0    1\n",
       "Pclass            \n",
       "1          80  136\n",
       "2          97   87\n",
       "3         372  119"
      ]
     },
     "execution_count": 81,
     "metadata": {},
     "output_type": "execute_result"
    }
   ],
   "source": [
    "#unstack() - to convert results into a more readable format.\n",
    "class_survived.size().unstack()"
   ]
  },
  {
   "cell_type": "code",
   "execution_count": 82,
   "metadata": {},
   "outputs": [
    {
     "data": {
      "image/png": "[encoded data removed]",
      "text/plain": [
       "<Figure size 432x288 with 1 Axes>"
      ]
     },
     "metadata": {
      "needs_background": "light"
     },
     "output_type": "display_data"
    }
   ],
   "source": [
    "#Visualization of survivings by passenger class\n",
    "class_survived.size().unstack().plot(kind='bar', stacked=True, colormap='autumn')\n",
    "plt.xlabel('1st = Upper,   2nd = Middle,   3rd = Lower')\n",
    "plt.ylabel('Frequency')\n",
    "plt.title('Survivings by passenger class')\n",
    "plt.show()"
   ]
  },
  {
   "cell_type": "code",
   "execution_count": 83,
   "metadata": {},
   "outputs": [
    {
     "name": "stdout",
     "output_type": "stream",
     "text": [
      "Surviving numbers of male passengers by passenger class:  Survived    0   1\n",
      "Pclass           \n",
      "1          77  45\n",
      "2          91  17\n",
      "3         300  47\n",
      "Surviving numbers of female passengers by passenger class: Survived   0   1\n",
      "Pclass          \n",
      "1          3  91\n",
      "2          6  70\n",
      "3         72  72\n"
     ]
    },
    {
     "data": {
      "image/png": "[encoded data removed]",
      "text/plain": [
       "<Figure size 432x288 with 2 Axes>"
      ]
     },
     "metadata": {
      "needs_background": "light"
     },
     "output_type": "display_data"
    }
   ],
   "source": [
    "#Numbers of survived/not survived passengers by sex and passenger class\n",
    "print ('Surviving numbers of male passengers by passenger class: ',\n",
    "male_passenger.groupby(['Pclass', 'Survived']).size().unstack())\n",
    "\n",
    "print ('Surviving numbers of female passengers by passenger class:',\n",
    "female_passenger.groupby(['Pclass', 'Survived']).size().unstack())\n",
    "\n",
    "#Visualization of male and female survivings by passenger class\n",
    "fig, axes = plt.subplots(nrows=2, ncols=1)\n",
    "male_passenger.groupby(['Pclass','Survived']).size().unstack().plot(kind='bar', title='Surviving of male passengers by class',\n",
    "                                                                    stacked=True, colormap='summer', ax=axes[0])\n",
    "female_passenger.groupby(['Pclass','Survived']).size().unstack().plot(kind='bar', title='Surviving of female passengers by class',\n",
    "                                                                      stacked=True, colormap='summer', ax=axes[1])\n",
    "plt.tight_layout()\n",
    "plt.show()"
   ]
  },
  {
   "cell_type": "code",
   "execution_count": 84,
   "metadata": {},
   "outputs": [
    {
     "name": "stdout",
     "output_type": "stream",
     "text": [
      "Index(['Age', 'Cabin'], dtype='object')\n",
      "Missings in the train data: \n"
     ]
    },
    {
     "data": {
      "text/plain": [
       "PassengerId      0\n",
       "Survived         0\n",
       "Pclass           0\n",
       "Name             0\n",
       "Sex              0\n",
       "Age            177\n",
       "SibSp            0\n",
       "Parch            0\n",
       "Ticket           0\n",
       "Fare             0\n",
       "Cabin          687\n",
       "Embarked         0\n",
       "dtype: int64"
      ]
     },
     "metadata": {},
     "output_type": "display_data"
    },
    {
     "name": "stdout",
     "output_type": "stream",
     "text": [
      "Missings in the test data: \n"
     ]
    },
    {
     "data": {
      "text/plain": [
       "PassengerId      0\n",
       "Pclass           0\n",
       "Name             0\n",
       "Sex              0\n",
       "Age             86\n",
       "SibSp            0\n",
       "Parch            0\n",
       "Ticket           0\n",
       "Fare             1\n",
       "Cabin          327\n",
       "Embarked         0\n",
       "dtype: int64"
      ]
     },
     "metadata": {},
     "output_type": "display_data"
    }
   ],
   "source": [
    "#Eksik sütünları göster\n",
    "\n",
    "#eğitim setinde eksik değerleri olan sütunları listele\n",
    "print(train_dataset.columns[train_dataset.isna().any()])\n",
    "\n",
    "#Eksiklik verileri şu şekilde de gösterebiliriz\n",
    "print(\"Missings in the train data: \")\n",
    "display(train_dataset.isnull().sum())\n",
    "\n",
    "print(\"Missings in the test data: \") \n",
    "display(test_dataset.isnull().sum())"
   ]
  },
  {
   "cell_type": "code",
   "execution_count": null,
   "metadata": {},
   "outputs": [],
   "source": [
    "#train ve test data setini pandas kütüphanesinin concat metoduyla birleştiren fonksyon\n",
    "\n",
    "def concat_df(train_dataset,test_dataset):\n",
    "    return pd.concat([train_dataset, test_dataset], sort= True).reset_index(drop=True)"
   ]
  },
  {
   "cell_type": "code",
   "execution_count": null,
   "metadata": {},
   "outputs": [],
   "source": [
    "#Eğitim verilerinde yaş, kabin ve başlangıçlar sütununda eksiklerimiz var.\n",
    "#Test veri setinde yaş, ücret ve kabin sütununda eksiklikler var. \n",
    "#Her iki veri setini birleştireceğiz ve tüm veri seti için veri temizliğini gerçekleştireceğiz.\n",
    "#train ve test \n",
    "\n",
    "df_all = concat_df(train_dataset , test_dataset)\n"
   ]
  },
  {
   "cell_type": "code",
   "execution_count": null,
   "metadata": {},
   "outputs": [],
   "source": [
    "#YAŞ\n",
    "\n",
    "#yaş sütünumuzun yüzdelik olarak ne kadar eksik verisi olduğunu görmek için\n",
    "print(\"Missings for Age in the entire data set: \" + str(df_all['Age'].isnull().sum()))\n",
    "print(\"Missings in percentage: \" + str(round(df_all['Age'].isnull().sum()/len(df_all)*100,0)))\n",
    "\n",
    "#yaş veri setimizin içinde değerlendirmeye devam ediyoruz\n",
    "      \n",
    "print('Median for Age seperated by Pclass: ')    \n",
    "display(train_dataset.groupby('Pclass')['Age'].median())      \n",
    "print('Median for Age seperated by Pclass and Sex:')    \n",
    "display(train_dataset.groupby(['Pclass','Sex'])['Age'].median()) \n",
    "print('Number of cases:')    \n",
    "display(train_dataset.groupby(['Pclass','Sex'])['Age'].count()) \n",
    "      \n",
    "#replace the missings values with the medians of each group\n",
    "df_all['Age']= df_all.groupby(['Pclass','Sex'])['Age'].apply(lambda x:x.fillna(x.median()))\n"
   ]
  },
  {
   "cell_type": "code",
   "execution_count": null,
   "metadata": {},
   "outputs": [],
   "source": [
    "#Ücret  \n",
    "\n",
    "df_all.loc[df_all['Fare'].isnull()]   \n",
    "      \n",
    "#Tüm veri setinde tek bir eksik ücret değerimiz var. Bay Thomas      \n",
    "      \n",
    "#loc cases which are similar to Mr.Thomas and use the median of fare to replace  the missing for his data set\n",
    "      \n",
    "mr_thomas=df_all.loc[(df_all['Pclass']==3)&(df_all['SibSp']==0)&(df_all['Embarked']=='S')]['Fare'].median()\n",
    "print(mr_thomas)\n",
    "      \n"
   ]
  },
  {
   "cell_type": "code",
   "execution_count": null,
   "metadata": {},
   "outputs": [],
   "source": [
    "#Kabin\n",
    "      \n",
    "display(train_dataset['Cabin'].unique())\n",
    "print(\"There are \"+ str(train_dataset['Cabin'].nunique()) + \" different values for Cabin and \" + str(train_dataset['Cabin'].isnull().sum()) + \" cases are missing.\")\n",
    "\n",
    "#keep all first letters of cabin in a new variable and use \"M\" for each missing\n",
    "df_all['Deck'] = df_all['Cabin'].apply(lambda s: s[0] if pd.notnull(s) else 'M' )\n",
    "      \n",
    "df_all[['Deck','Survived']].groupby('Deck')['Survived'].mean().plot(kind='bar',figsize=(15,7))\n",
    "plt.suptitle('Survival rates for diffrent cabins')\n",
    "            \n",
    "#Hayatta kalma oranlarında önemli farklılıklar var çünkü üst güvertelerdeki konuklar filikalarda daha hızlıydı.\n",
    "#Bazı desteleri gruplayacağız.      \n",
    "      \n",
    "      \n",
    "idx=df_all[df_all['Deck'] == 'T'].index\n",
    "df_all.loc[idx,'Deck'] = 'A'   \n",
    "df_all['Deck']= df_all['Deck'].replace(['A','B','C'],'ABC')\n",
    "df_all['Deck']= df_all['Deck'].replace(['D','E'],'DE')\n",
    "df_all['Deck']= df_all['Deck'].replace(['F','G'],'FG')      \n",
    "df_all['Deck'].value_counts()"
   ]
  },
  {
   "cell_type": "code",
   "execution_count": null,
   "metadata": {},
   "outputs": [],
   "source": [
    "#gemiye bindiler\n",
    "      \n",
    "df_all.loc[df_all['Embarked'].isnull()]\n",
    "           \n",
    "df_all.loc[(df_all['Pclass'] == 1) & (df_all['Fare'] <= 80) & (df_all ['Deck'] == 'ABC')]['Embarked'].value_counts()\n",
    "\n",
    "#Başlamak için sadece iki eksik var.\n",
    "#Ücret davası için zaten denediğimiz gibi, eksik değeri değiştirmek için benzer durumlara bakabiliriz.\n",
    "      \n",
    "df_all.loc[df_all['Embarked'].isnull(),'Embarked'] = 'S'\n",
    "           \n",
    "print(\"Missing in the data:\")\n",
    "display(df_all.isnull().sum())"
   ]
  },
  {
   "cell_type": "code",
   "execution_count": null,
   "metadata": {},
   "outputs": [],
   "source": [
    "df_all.boxplot(column=['Fare'], figsize=(15,7))\n",
    "\n",
    "df_all.boxplot(column=['Age'], figsize=(15,7))\n",
    "      \n",
    "df_all['Fare'] = pd.qcut(df_all['Fare'], 5 )\n",
    "df_all['Age'] = pd.cut(df_all['Age'].astype(int), 5 )\n",
    "\n",
    "print(\"For age, each category has a different number of cases:\")\n",
    "df_all['Age'].value_counts()\n",
    "      \n",
    "print(\"For fare, each category has a different number of cases:\")\n",
    "df_all['Fare'].value_counts()\n",
    "\n",
    "df_all[['Age', 'Survived']].groupby('Age')['Survived'].mean()\n",
    "\n",
    "df_all[['Fare', 'Survived']].groupby('Fare')['Survived'].mean()      \n",
    "\n",
    "df_all[['Age', 'Survived']].groupby('Age')['Survived'].mean().plot(kind='bar', figsize=(15,7))\n",
    "plt.suptitle('Survival rates for age categories')      \n",
    " \n",
    "df_all[['Fare', 'Survived']].groupby('Fare')['Survived'].mean().plot(kind='bar', figsize=(15,7))\n",
    "plt.suptitle('Survival rates for fare categories')         \n",
    "  "
   ]
  },
  {
   "cell_type": "code",
   "execution_count": null,
   "metadata": {},
   "outputs": [],
   "source": [
    "#AİLE\n",
    "\n",
    "#Veri setimizde bize aile büyüklüğü hakkında bir şeyler söyleyen iki ilginç değişken var. \n",
    "#SibSp, bir yolcunun kaç tane kardeşi ve eşi olduğunu tanımlar ve kaç tane ebeveyn ve çocuk parch. \n",
    "#Bu değişkenleri özetleyebilir ve aile boyutunu elde etmek için 1 ekleyebiliriz (her yoldan geçen için).     \n",
    "      \n",
    "df_all['Family_Size'] = df_all['SibSp'] + df_all['Parch'] + 1\n",
    "df_all['Family_Size'].hist(figsize=(15,7))\n",
    "      \n",
    "df_all['Family_Size_bin']=df_all['Family_Size'].map(lambda s: 1 if s == 1 else (2 if s == 2 else (3 if 3 <= s <= 4 else (4 if s >= 5 else 0))))\n",
    "\n",
    "df_all['Family_Size_bin'].value_counts()\n",
    "\n",
    "#Bir tez, ailelerin hayatta kalma şansının bekarlara göre daha yüksek olduğu, çünkü kendilerini daha iyi destekleyebildikleri ve öncelikli olarak kurtarıldıklarıdır.\n",
    "# Bununla birlikte, aileler çok büyükse, istisnai bir durumda koordinasyon muhtemelen çok zor olacaktır.\n",
    "\n",
    "df_all[['Family_Size_bin','Survived']].groupby('Family_Size_bin')['Survived'].mean().plot(kind='bar' , figsize=(15,7))\n",
    "plt.suptitle('Survival rates for family size categories')\n"
   ]
  },
  {
   "cell_type": "code",
   "execution_count": null,
   "metadata": {},
   "outputs": [],
   "source": [
    "#biletler\n",
    "df_all['Ticket_Frequency'] = df_all.groupby('Ticket')['Ticket'].transform('count')\n",
    "\n",
    "#Bilet sıklıkları ile hayatta kalma oranları arasında bir korelasyon bekliyoruz, çünkü aynı bilet numaraları, insanların birlikte seyahat ettiklerinin bir göstergesi.\n",
    "df_all[['Ticket_Frequency','Survived']].groupby('Ticket_Frequency').mean()\n"
   ]
  },
  {
   "cell_type": "code",
   "execution_count": null,
   "metadata": {},
   "outputs": [],
   "source": [
    "#İSİM\n",
    "\n",
    "#İsim bize bir yolcunun sosyoekonomik durumu hakkında çok önemli bilgiler veriyor. \n",
    "#Birinin evli olup olmadığı veya daha yüksek bir sosyal statünün göstergesi olabilecek resmi bir unvanı olup olmadığı sorusuna cevap verebiliriz.\n",
    "\n",
    "df_all['Title'] = df_all['Name'].str.split(',', expand=True)[1].str.split('.',expand=True)[0]\n",
    "df_all['Is_Married'] = 0\n",
    "df_all['Is_Married'].loc[df_all['Title'] == 'Mrs'] =1\n",
    "df_all['Title'].nunique()\n",
    "#Veri setimizde pek çok farklı başlık var.\n",
    "# Yalnızca 10'dan fazla davaya sahip başlığı dikkate alıyoruz, diğerlerinin tümünü \"misc\" kategorisine atayacağız.\n",
    "title_names = (df_all['Title'].value_counts() < 10)\n",
    "df_all['Title'] = df_all['Title'].apply(lambda x: 'Misc' if title_names.loc[x] == True else x)\n",
    "df_all.groupby('Title')['Title'].count()\n",
    "                "
   ]
  },
  {
   "cell_type": "code",
   "execution_count": null,
   "metadata": {},
   "outputs": [],
   "source": [
    "#Yolcuların soyadlarını belirleyeceğiz. \n",
    "#Daha sonra hem eğitimde hem de test veri setinde bulunan herhangi bir aile üyesi olup olmadığını görebiliriz.\n",
    "import string\n",
    "\n",
    "def extract_surname(data):\n",
    "    families=[]\n",
    "    for i in range(len(data)):\n",
    "        name = data.iloc[i]\n",
    "        if '(' in name:\n",
    "            name_no_bracket = name.split('(')[0]\n",
    "        else:\n",
    "            name_no_bracket = name\n",
    "        family = name_no_bracket.split(',')[0] \n",
    "        title = name_no_bracket.split(',')[1].strip().split(' ')[0]\n",
    "        for c in string.punctuation:\n",
    "            family = family.replace(c, '').strip()\n",
    "        families.append(family)\n",
    "        \n",
    "    return families\n",
    "df_all['Family'] = extract_surname(df_all['Name'])\n",
    "\n",
    "df_all['Family'].nunique()\n"
   ]
  },
  {
   "cell_type": "code",
   "execution_count": null,
   "metadata": {},
   "outputs": [],
   "source": [
    "#Yüksek lisans derecesine sahip kişiler ve kadınlar, önemli ölçüde daha sık hayatta kaldılar ve aynı zamanda ortalama olarak daha büyük ailelere sahipler. \n",
    "#Eğitim veri setinde bir usta veya kadın hayatta kalan olarak işaretlenirse, test veri setindeki aile üyelerinin de hayatta kalacağını varsayıyoruz.\n",
    "      \n",
    "df_all[['Title','Survived','Family_Size']].groupby('Title').mean()\n",
    "\n",
    "print('Survival rates grouped by families of women in dataset:')\n",
    "df_all.loc[(df_all['Sex'] == 'female') & (df_all['Family_Size'] > 1)].groupby('Family')['Survived'].mean().hist(figsize=(12,5))\n",
    "\n",
    "#Aile büyüklüğü 2 veya daha fazla olan kadınlarda, çoğu zaman hepsi veya hiçbiri ölmez.\n",
    "\n",
    "master_families = df_all.loc[df_all['Title'] == 'Master']['Family'].tolist()\n",
    "df_all.loc[df_all['Family'].isin(master_families)].groupby('Family')['Survived'].mean().hist(figsize=(12,5))\n",
    "\n",
    "#Aynısı, unvanında kaptan olan yolcu aileleri için de geçerlidir.\n",
    "\n",
    "women_rate = df_all.loc[(df_all['Sex'] == 'female') & (df_all['Family_Size'] > 1 )].groupby('Family')['Survived'].mean()\n",
    "master_rate = df_all.loc[df_all['Family'].isin(master_families)].groupby('Family')['Survived'].mean()\n",
    "\n",
    "combined_rate = women_rate.append(master_rate)\n",
    "\n",
    "combined_rate_df = combined_rate.to_frame().reset_index().rename(columns={'Survived' : 'Survival_quota'}).drop_duplicates(subset='Family')\n",
    "\n",
    "df_all =pd.merge(df_all,combined_rate_df ,how = 'left')\n",
    "                                                                            \n",
    "                                                                            \n",
    "                                                                            \n",
    "df_all['Survival_quota_NA'] = 1\n",
    "df_all.loc[df_all['Survival_quota'].isnull(), 'Survival_quota_NA']=0                                                                            \n",
    "df_all['Survival_quota']=df_all['Survival_quota'].fillna(0)   "
   ]
  },
  {
   "cell_type": "code",
   "execution_count": null,
   "metadata": {},
   "outputs": [],
   "source": [
    "cikarilacaklar = ['Name','Ticket','Cabin'] #datamızı incelediğimizde bazı sütünlerin bizim verimiz için gerekli olmadığını fark edip çıkartık.\n",
    "train_dataset = train_dataset.drop(cikarilacaklar,axis=1)\n",
    "\n",
    "train_dataset = train_dataset.dropna() #bazı eksik verileri temizledik.\n",
    "\n",
    "train_dataset.info()\n",
    "\n",
    "yolcular = []\n",
    "sutunlar = ['Pclass','Sex','Embarked']  #Pclass:yolcu sınıfı,Embarked:biniş noktası\n",
    "for sutun in sutunlar:\n",
    "    yolcular.append(pd.get_dummies(train_dataset[sutun])) #kategorik verileri yer tutucu ile değiştirmek için get_dummies kullandık.\n",
    "\n",
    "yolcular = pd.concat(yolcular, axis=1) #Dataframe elde etmek için concat methodu kullandık.\n",
    "print(yolcular)\n",
    "\n",
    "yolcular = yolcular.drop(['female'], axis=1)\n",
    "train_dataset = pd.concat((train_dataset,yolcular),axis=1)\n",
    "train_dataset = train_dataset.drop(['Pclass','Sex','Embarked'],axis=1)\n",
    "\n",
    "print(train_dataset)\n",
    "\n",
    "X = train_dataset.values\n",
    "Y = train_dataset['Survived'].values\n",
    "\n",
    "X = np.delete(X,1,axis=1)\n",
    "\n",
    "X_train, X_test, y_train, y_test=train_test_split(X,Y,test_size=0.3, random_state=0) #test size 30 atadık train test de 70 oldu\n",
    "\n",
    "siniflama = tree.DecisionTreeClassifier(max_depth=5)\n",
    "siniflama.fit(X_train,y_train)\n",
    "skor = siniflama.score(X_test,y_test)\n",
    "\n",
    "print(\"Başarı: \",skor)\n",
    "\n",
    "tahminler = siniflama.predict(X)\n",
    "as_egitim = accuracy_score(tahminler, Y)\n",
    "\n",
    "print(\"Doğruluk tablosu skoru: \", as_egitim)\n",
    "#Yukarıda uygulamanın doğruluk skorunu elde ettik ancak, doğruluk skoru tek başına bir başarı ölçme kriteri olamaz.\n",
    "#Diğer kriterlere (hata oranı, hassasiyet vb.) bakabilmek için confusion matrix kullandık. \n",
    "#Bunun için pandas kütüphanesinden crosstab() metodu kullandık.\n",
    "\n",
    "confusion_matrix = pd.crosstab(Y, tahminler, rownames=['Gerçek'], colnames=['Tahmin'])\n",
    "print (confusion_matrix)\n",
    "\n",
    "#Modelleme ve tahmin\n",
    "                     \n",
    "X = train_dataset.values\n",
    "y = train_dataset['Survived'].values\n",
    "\n",
    "X = np.delete(X,1,axis=1)\n",
    "            \n",
    "#X_test = StandardScaler().fit_transform(test_dataset)       \n",
    "X_train, X_test,y_train,y_test = train_test_split(X,y, test_size = 0.25, random_state =42) \n",
    "model = RandomForestClassifier(criterion = 'gini',n_estimators=1750,max_depth=7,min_samples_split =6, min_samples_leaf = 6, max_features = 'auto', oob_score= True, random_state=42, n_jobs=-1,verbose =1)\n",
    "            \n",
    "model.fit(X_train, y_train)\n",
    "predictions = model.predict(X_test)  \n",
    "\n",
    "başarı = model.score(X_test, y_test)\n",
    "\n",
    "print(başarı)\n"
   ]
  },
  {
   "cell_type": "code",
   "execution_count": null,
   "metadata": {},
   "outputs": [],
   "source": []
  }
 ],
 "metadata": {
  "kernelspec": {
   "display_name": "Python 3",
   "language": "python",
   "name": "python3"
  },
  "language_info": {
   "codemirror_mode": {
    "name": "ipython",
    "version": 3
   },
   "file_extension": ".py",
   "mimetype": "text/x-python",
   "name": "python",
   "nbconvert_exporter": "python",
   "pygments_lexer": "ipython3",
   "version": "3.8.5"
  }
 },
 "nbformat": 4,
 "nbformat_minor": 4
}
