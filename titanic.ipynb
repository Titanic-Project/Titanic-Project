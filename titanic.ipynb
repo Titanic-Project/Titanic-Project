{
 "cells": [
  {
   "cell_type": "code",
   "execution_count": 16,
   "metadata": {},
   "outputs": [
    {
     "name": "stdout",
     "output_type": "stream",
     "text": [
      "<class 'pandas.core.frame.DataFrame'>\n",
      "RangeIndex: 891 entries, 0 to 890\n",
      "Data columns (total 12 columns):\n",
      " #   Column       Non-Null Count  Dtype  \n",
      "---  ------       --------------  -----  \n",
      " 0   PassengerId  891 non-null    int64  \n",
      " 1   Survived     891 non-null    int64  \n",
      " 2   Pclass       891 non-null    int64  \n",
      " 3   Name         891 non-null    object \n",
      " 4   Sex          891 non-null    object \n",
      " 5   Age          714 non-null    float64\n",
      " 6   SibSp        891 non-null    int64  \n",
      " 7   Parch        891 non-null    int64  \n",
      " 8   Ticket       891 non-null    object \n",
      " 9   Fare         891 non-null    float64\n",
      " 10  Cabin        204 non-null    object \n",
      " 11  Embarked     889 non-null    object \n",
      "dtypes: float64(2), int64(5), object(5)\n",
      "memory usage: 83.7+ KB\n"
     ]
    }
   ],
   "source": [
    "import pandas as pd\n",
    "import numpy as np\n",
    "from sklearn.model_selection import train_test_split \n",
    "import csv\n",
    " \n",
    "#Eğitim seti\n",
    "egitim = open(r\"C:\\\\Users\\\\pesen\\\\Desktop\\\\new\\\\train.csv\")\n",
    "egitim = pd.read_csv(egitim)  \n",
    "egitim.info()\n"
   ]
  },
  {
   "cell_type": "code",
   "execution_count": 17,
   "metadata": {},
   "outputs": [
    {
     "name": "stdout",
     "output_type": "stream",
     "text": [
      "<class 'pandas.core.frame.DataFrame'>\n",
      "Int64Index: 712 entries, 0 to 890\n",
      "Data columns (total 9 columns):\n",
      " #   Column       Non-Null Count  Dtype  \n",
      "---  ------       --------------  -----  \n",
      " 0   PassengerId  712 non-null    int64  \n",
      " 1   Survived     712 non-null    int64  \n",
      " 2   Pclass       712 non-null    int64  \n",
      " 3   Sex          712 non-null    object \n",
      " 4   Age          712 non-null    float64\n",
      " 5   SibSp        712 non-null    int64  \n",
      " 6   Parch        712 non-null    int64  \n",
      " 7   Fare         712 non-null    float64\n",
      " 8   Embarked     712 non-null    object \n",
      "dtypes: float64(2), int64(5), object(2)\n",
      "memory usage: 55.6+ KB\n"
     ]
    }
   ],
   "source": [
    "cikarilacaklar = ['Name','Ticket','Cabin']\n",
    "egitim = egitim.drop(cikarilacaklar, axis = 1)\n",
    "egitim = egitim.dropna()\n",
    "\n",
    "egitim.info()"
   ]
  },
  {
   "cell_type": "code",
   "execution_count": 21,
   "metadata": {},
   "outputs": [
    {
     "name": "stdout",
     "output_type": "stream",
     "text": [
      "     1  2  3  female  male  C  Q  S\n",
      "0    0  0  1       0     1  0  0  1\n",
      "1    1  0  0       1     0  1  0  0\n",
      "2    0  0  1       1     0  0  0  1\n",
      "3    1  0  0       1     0  0  0  1\n",
      "4    0  0  1       0     1  0  0  1\n",
      "..  .. .. ..     ...   ... .. .. ..\n",
      "885  0  0  1       1     0  0  1  0\n",
      "886  0  1  0       0     1  0  0  1\n",
      "887  1  0  0       1     0  0  0  1\n",
      "889  1  0  0       0     1  1  0  0\n",
      "890  0  0  1       0     1  0  1  0\n",
      "\n",
      "[712 rows x 8 columns]\n"
     ]
    }
   ],
   "source": [
    "yolcular = []\n",
    "sutunlar = ['Pclass','Sex','Embarked']\n",
    "for sutun in sutunlar:\n",
    "    yolcular.append(pd.get_dummies(egitim[sutun]))  #veri dönüştürme işlemi için get_dummies\n",
    "\n",
    "yolcular = pd.concat(yolcular, axis = 1)   #data frame için concat metodu\n",
    "print(yolcular)"
   ]
  },
  {
   "cell_type": "code",
   "execution_count": 22,
   "metadata": {},
   "outputs": [
    {
     "name": "stdout",
     "output_type": "stream",
     "text": [
      "     PassengerId  Survived   Age  SibSp  Parch     Fare  1  2  3  female  C  \\\n",
      "0              1         0  22.0      1      0   7.2500  0  0  1       0  0   \n",
      "1              2         1  38.0      1      0  71.2833  1  0  0       1  1   \n",
      "2              3         1  26.0      0      0   7.9250  0  0  1       1  0   \n",
      "3              4         1  35.0      1      0  53.1000  1  0  0       1  0   \n",
      "4              5         0  35.0      0      0   8.0500  0  0  1       0  0   \n",
      "..           ...       ...   ...    ...    ...      ... .. .. ..     ... ..   \n",
      "885          886         0  39.0      0      5  29.1250  0  0  1       1  0   \n",
      "886          887         0  27.0      0      0  13.0000  0  1  0       0  0   \n",
      "887          888         1  19.0      0      0  30.0000  1  0  0       1  0   \n",
      "889          890         1  26.0      0      0  30.0000  1  0  0       0  1   \n",
      "890          891         0  32.0      0      0   7.7500  0  0  1       0  0   \n",
      "\n",
      "     Q  S  \n",
      "0    0  1  \n",
      "1    0  0  \n",
      "2    0  1  \n",
      "3    0  1  \n",
      "4    0  1  \n",
      "..  .. ..  \n",
      "885  1  0  \n",
      "886  0  1  \n",
      "887  0  1  \n",
      "889  0  0  \n",
      "890  1  0  \n",
      "\n",
      "[712 rows x 13 columns]\n"
     ]
    }
   ],
   "source": [
    "yolcular = yolcular.drop(['male'], axis = 1)\n",
    "\n",
    "egitim = pd.concat((egitim,yolcular), axis = 1)\n",
    "egitim = egitim.drop(['Pclass','Sex','Embarked'], axis = 1)\n",
    "\n",
    "print(egitim)"
   ]
  },
  {
   "cell_type": "code",
   "execution_count": 24,
   "metadata": {},
   "outputs": [],
   "source": [
    "X = egitim.values\n",
    "Y = egitim['Survived'].values\n",
    "\n",
    "X = np.delete(X,1,axis=1)\n",
    "\n",
    "X_train, X_test, y_train, y_test=train_test_split(X,Y,test_size=0.3, random_state=0)"
   ]
  },
  {
   "cell_type": "code",
   "execution_count": 25,
   "metadata": {},
   "outputs": [
    {
     "name": "stdout",
     "output_type": "stream",
     "text": [
      "Başarı:  0.7616822429906542\n"
     ]
    }
   ],
   "source": [
    "from sklearn import tree\n",
    "siniflama = tree.DecisionTreeClassifier(max_depth=5)\n",
    "siniflama.fit(X_train,y_train)\n",
    "skor = siniflama.score(X_test,y_test)\n",
    "\n",
    "print(\"Başarı: \",skor)"
   ]
  },
  {
   "cell_type": "code",
   "execution_count": 26,
   "metadata": {},
   "outputs": [
    {
     "name": "stdout",
     "output_type": "stream",
     "text": [
      "Doğruluk tablosu skoru:  0.8469101123595506\n"
     ]
    }
   ],
   "source": [
    "from sklearn.metrics import accuracy_score\n",
    "tahminler = siniflama.predict(X)\n",
    "as_egitim = accuracy_score(tahminler, Y)\n",
    "\n",
    "print(\"Doğruluk tablosu skoru: \", as_egitim)"
   ]
  },
  {
   "cell_type": "code",
   "execution_count": 27,
   "metadata": {},
   "outputs": [
    {
     "name": "stdout",
     "output_type": "stream",
     "text": [
      "Tahmin    0    1\n",
      "Gerçek          \n",
      "0       371   53\n",
      "1        56  232\n"
     ]
    }
   ],
   "source": [
    "confusion_matrix = pd.crosstab(Y, tahminler, rownames=['Gerçek'], colnames=['Tahmin'])\n",
    "print (confusion_matrix)"
   ]
  }
 ],
 "metadata": {
  "kernelspec": {
   "display_name": "Python 3",
   "language": "python",
   "name": "python3"
  },
  "language_info": {
   "codemirror_mode": {
    "name": "ipython",
    "version": 3
   },
   "file_extension": ".py",
   "mimetype": "text/x-python",
   "name": "python",
   "nbconvert_exporter": "python",
   "pygments_lexer": "ipython3",
   "version": "3.8.5"
  }
 },
 "nbformat": 4,
 "nbformat_minor": 4
}
